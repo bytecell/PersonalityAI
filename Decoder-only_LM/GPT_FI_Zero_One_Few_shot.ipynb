{
 "cells": [
  {
   "cell_type": "markdown",
   "id": "4870234c-1915-4797-953d-1443ab7bfb55",
   "metadata": {},
   "source": [
    "### Pre-defined Method"
   ]
  },
  {
   "cell_type": "code",
   "execution_count": 2,
   "id": "0a2b0c99-7b19-4eff-89d0-25cc811f61b7",
   "metadata": {},
   "outputs": [],
   "source": [
    "import json\n",
    "from openai import OpenAI\n",
    "import pandas as pd\n",
    "from tqdm import tqdm\n",
    "import re"
   ]
  },
  {
   "cell_type": "code",
   "execution_count": 3,
   "id": "28dc0d8a-a39f-4cf7-9aed-94d80a5e7ecf",
   "metadata": {},
   "outputs": [],
   "source": [
    "import re\n",
    "\n",
    "SPECIALS = \"\".join([',', '.']) \n",
    "\n",
    "SPECIALS = re.escape(SPECIALS)\n",
    "\n",
    "def preprocess(text: str):\n",
    "    text = re.sub(f\"[^0-9{SPECIALS}]\", \"\", text)  # f-문자열을 적용시켜 SPECIALS를 넣어줌.\n",
    "    # 연속 공백 제거\n",
    "    text = re.sub(\" +\", \" \", text)\n",
    "    # 좌우 불필요한 공백 제거\n",
    "    return text.strip()"
   ]
  },
  {
   "cell_type": "code",
   "execution_count": 4,
   "id": "128e0133-7d02-407b-8dbb-0475283774bc",
   "metadata": {},
   "outputs": [],
   "source": [
    "from sklearn.metrics import mean_absolute_error\n",
    "import numpy as np\n",
    "\n",
    "def test_compute_metrics(label, pred):\n",
    "    MAE = []\n",
    "    \n",
    "    for i in range(5):\n",
    "        if pred[i][-1] == '.':\n",
    "            pred[i] = pred[i][:-1]\n",
    "        \n",
    "        MAE.append(1 - mean_absolute_error([float(label[i])], [float(pred[i])]))\n",
    "    \n",
    "    return MAE"
   ]
  },
  {
   "cell_type": "code",
   "execution_count": null,
   "id": "1facfabd-6bc9-407d-a1fe-5159ab00ac77",
   "metadata": {},
   "outputs": [],
   "source": [
    "\"\"\"\n",
    "You are an expert in analyzing sentences for the OCEAN personality traits. \\\n",
    "        The OCEAN personality traits assess the following: O (Openness), C (Conscientiousness), E (Extraversion), A (Agreeableness), and N (Neuroticism). \\\n",
    "        Read the given sentence and analyze the extent to which each of the OCEAN personality traits is exhibited in the sentence. \\\n",
    "        Assign a score between 0 and 1 for each trait based on how strongly the trait is represented in the sentence. \\\n",
    "        A score close to 0 means the trait is not represented at all, while a score close to 1 means the trait is very strongly represented. \\\n",
    "        You should provide the output as the scores for the five OCEAN personality traits for the given sentence, similar to the example below. \\\n",
    "        Example: [O: 0.6722, C: 0.8322, E: 0.4860, A: 0.5298, N: 0.9323]\n",
    "\"\"\""
   ]
  },
  {
   "cell_type": "markdown",
   "id": "bf41f717-db2d-492a-9bc5-91be3f15bc84",
   "metadata": {},
   "source": [
    "### Zero-shot LLM Inference"
   ]
  },
  {
   "cell_type": "code",
   "execution_count": null,
   "id": "5de92130-ee8b-4217-b1f6-0332ea8d91ba",
   "metadata": {},
   "outputs": [],
   "source": [
    "key_path = \"/home/visi2/gpt3.5_key.json\" \n",
    "\n",
    "with open(key_path, 'r') as f:\n",
    "    key_json = json.load(f)\n",
    "    openai_client = OpenAI(api_key=key_json['key'])    \n",
    "\n",
    "\n",
    "FI_test = pd.read_csv(\"/data/visi2/FI/KETI_preprocessed_labeled_dropdup+seperate+2senconcat_ver0.4.csv\")\n",
    "result_df = pd.DataFrame(columns=[\"Text\", \"Inference\"])\n",
    "\n",
    "for data in tqdm(FI_test['transcription'].to_list()):\n",
    "    user = data\n",
    "    messages = [\n",
    "        {\n",
    "        \"role\": \"system\",\n",
    "        \"content\":\"You are an expert in analyzing sentences for the OCEAN personality traits. \\\n",
    "        The OCEAN personality traits assess the following: O (Openness), C (Conscientiousness), E (Extraversion), A (Agreeableness), and N (Neuroticism). \\\n",
    "        Read the given sentence and analyze the extent to which each of the OCEAN personality traits is exhibited in the sentence. \\\n",
    "        Assign a score between 0 and 1 for each trait based on how strongly the trait is represented in the sentence. \\\n",
    "        A score close to 0 means the trait is not represented at all, while a score close to 1 means the trait is very strongly represented. \\\n",
    "        You should provide the output as the scores for the five OCEAN personality traits for the given sentence, similar to the example below. \\\n",
    "        Example: [O: 0.6722, C: 0.8322, E: 0.4860, A: 0.5298, N: 0.9323] \\n\",\n",
    "        },\n",
    "        {\n",
    "        \"role\": \"user\",\n",
    "        \"content\": 'Given Sentence: \"' + user + '\",\\n Results- [O:'\n",
    "        }\n",
    "    ]\n",
    "    \n",
    "    response = openai_client.chat.completions.create(\n",
    "            model=\"gpt-3.5-turbo\",\n",
    "            messages=messages,\n",
    "            temperature=0.9,\n",
    "            max_tokens=1000,\n",
    "    )\n",
    "    \n",
    "    out_text = response.choices[0].message.content.strip()\n",
    "    tmp_df = pd.DataFrame({'Text': [user], 'Inference': [out_text]})\n",
    "    result_df = pd.concat([result_df, tmp_df])"
   ]
  },
  {
   "cell_type": "code",
   "execution_count": null,
   "id": "838f911a-98f9-45ea-a13c-40bbd5e32ae8",
   "metadata": {},
   "outputs": [],
   "source": [
    "result_df['Inference'].to_list()"
   ]
  },
  {
   "cell_type": "code",
   "execution_count": null,
   "id": "a86d1bc0-de36-423a-9d71-bd1c4623cd40",
   "metadata": {
    "scrolled": true
   },
   "outputs": [],
   "source": [
    "score = []\n",
    "p = re.compile('0[.]\\d*')\n",
    "\n",
    "for content in result_df['Inference'].to_list():\n",
    "    tmp = p.findall(content)\n",
    "    score.append(tmp)"
   ]
  },
  {
   "cell_type": "code",
   "execution_count": null,
   "id": "4b20858a-1434-4e41-8c16-3c6b18f92c11",
   "metadata": {
    "scrolled": true
   },
   "outputs": [],
   "source": [
    "score"
   ]
  },
  {
   "cell_type": "code",
   "execution_count": null,
   "id": "b6de2470-92e7-489f-aa55-ecab2671c795",
   "metadata": {
    "scrolled": true
   },
   "outputs": [],
   "source": [
    "FI_test = pd.read_csv(\"/data/visi2/FI/KETI_preprocessed_labeled_dropdup+seperate+2senconcat_ver0.4.csv\",\n",
    "                     index_col=0)\n",
    "FI_test['label'] = FI_test['OCEAN'].map(lambda x : [float(i) for i in x[1:-1].split(',')])"
   ]
  },
  {
   "cell_type": "code",
   "execution_count": null,
   "id": "949e3613-2115-4df0-83ac-ff563435df0b",
   "metadata": {},
   "outputs": [],
   "source": [
    "MAE_arr = []\n",
    "error_idx = []\n",
    "\n",
    "for i in range(len(FI_test)):\n",
    "    try:\n",
    "        MAE_arr.append(test_compute_metrics(FI_test['label'].iloc[i][:5], score[i][:5]))\n",
    "    except Exception as e:\n",
    "        print(i, e)\n",
    "        error_idx.append(i)"
   ]
  },
  {
   "cell_type": "code",
   "execution_count": null,
   "id": "3f7016fd-39a3-45ef-96e8-d7ca82f3ee8f",
   "metadata": {
    "scrolled": true
   },
   "outputs": [],
   "source": [
    "error_idx"
   ]
  },
  {
   "cell_type": "code",
   "execution_count": null,
   "id": "7700e422-cc3b-4dd1-834c-f86587346c92",
   "metadata": {},
   "outputs": [],
   "source": [
    "re_df = pd.DataFrame(columns=[\"Text\", \"Inference\"])\n",
    "\n",
    "for data in tqdm(FI_test['transcription'][error_idx].to_list()):\n",
    "    user = data\n",
    "    messages = [\n",
    "        {\n",
    "        \"role\": \"system\",\n",
    "        \"content\":\"You are an expert in analyzing sentences for the OCEAN personality traits. \\\n",
    "        The OCEAN personality traits assess the following: O (Openness), C (Conscientiousness), E (Extraversion), A (Agreeableness), and N (Neuroticism). \\\n",
    "        Read the given sentence and analyze the extent to which each of the OCEAN personality traits is exhibited in the sentence. \\\n",
    "        Assign a score between 0 and 1 for each trait based on how strongly the trait is represented in the sentence. \\\n",
    "        A score close to 0 means the trait is not represented at all, while a score close to 1 means the trait is very strongly represented. \\\n",
    "        You should provide the output as the scores for the five OCEAN personality traits for the given sentence, similar to the example below. \\\n",
    "        Example: [O: 0.6722, C: 0.8322, E: 0.4860, A: 0.5298, N: 0.9323]\",\n",
    "        },\n",
    "        {\n",
    "        \"role\": \"user\",\n",
    "        \"content\": 'Given Sentence: \"' + user + '\",\\n Results- [O:'\n",
    "        }\n",
    "    ]\n",
    "    \n",
    "    response = openai_client.chat.completions.create(\n",
    "            model=\"gpt-3.5-turbo\",\n",
    "            messages=messages,\n",
    "            temperature=0.9,\n",
    "            max_tokens=1000,\n",
    "    )\n",
    "    out_text = response.choices[0].message.content.strip()\n",
    "    tmp_df = pd.DataFrame({'Text': [user], 'Inference': [out_text]})\n",
    "    re_df = pd.concat([re_df, tmp_df])"
   ]
  },
  {
   "cell_type": "code",
   "execution_count": null,
   "id": "b3b0ce25-a49b-4fac-8506-135838565b16",
   "metadata": {},
   "outputs": [],
   "source": [
    "re_score = []\n",
    "p = re.compile('0[.]\\d*')\n",
    "\n",
    "for content in re_df['Inference'].to_list():\n",
    "    tmp = p.findall(content)\n",
    "    re_score.append(tmp)"
   ]
  },
  {
   "cell_type": "code",
   "execution_count": null,
   "id": "a77f5aa6-7807-48b5-9481-f9bb976cecd2",
   "metadata": {},
   "outputs": [],
   "source": [
    "re_score"
   ]
  },
  {
   "cell_type": "code",
   "execution_count": null,
   "id": "76ef511d-8ea2-40bc-ac9f-33cc152c2a49",
   "metadata": {},
   "outputs": [],
   "source": [
    "for i, idx in enumerate(error_idx):\n",
    "    score[idx] = re_score[i]"
   ]
  },
  {
   "cell_type": "code",
   "execution_count": null,
   "id": "e95ebe3b-c4f8-4235-b9f6-621718429d81",
   "metadata": {},
   "outputs": [],
   "source": [
    "MAE_arr = []\n",
    "error_idx = []\n",
    "\n",
    "for i in range(len(FI_test)):\n",
    "    try:\n",
    "        MAE_arr.append(test_compute_metrics(FI_test['label'].iloc[i][:5], score[i][:5]))\n",
    "    except Exception as e:\n",
    "        print(i, e)\n",
    "        error_idx.append(i)"
   ]
  },
  {
   "cell_type": "code",
   "execution_count": null,
   "id": "073e30cf-6256-43ab-8f9d-ef34c593977d",
   "metadata": {},
   "outputs": [],
   "source": [
    "np.array(MAE_arr).mean(axis=0)"
   ]
  },
  {
   "cell_type": "code",
   "execution_count": null,
   "id": "125bf2cf-2a1a-41a9-9290-fc12c4f741a0",
   "metadata": {},
   "outputs": [],
   "source": [
    "np.mean([0.77591929, 0.80950776, 0.82529518, 0.82160068, 0.80991879])"
   ]
  },
  {
   "cell_type": "markdown",
   "id": "2c17dc8d-1bc1-4743-8ee2-118bbfcd4241",
   "metadata": {},
   "source": [
    "--------------------"
   ]
  },
  {
   "cell_type": "markdown",
   "id": "678e6863-7a31-447f-aee6-ff6661d2f85c",
   "metadata": {},
   "source": [
    "### One-shot LLM Inference"
   ]
  },
  {
   "cell_type": "code",
   "execution_count": null,
   "id": "6664dc04-d6e2-47a7-9fbc-d933c9becdef",
   "metadata": {},
   "outputs": [],
   "source": [
    "key_path = \"/home/visi2/gpt3.5_key.json\"\n",
    "\n",
    "with open(key_path, 'r') as f:\n",
    "    key_json = json.load(f)\n",
    "    openai_client = OpenAI(api_key=key_json['key'])    \n",
    "\n",
    "\n",
    "FI_test = pd.read_csv(\"/data/visi2/FI/KETI_preprocessed_labeled_dropdup+seperate+2senconcat_ver0.4.csv\")\n",
    "result_df = pd.DataFrame(columns=[\"Text\", \"Inference\"])\n",
    "\n",
    "one_shot_text = \"상관없죠 아까 특산물 얘기하셔가지고 그거랑 연계하기도 쉬워 보이고\"\n",
    "for data in tqdm(FI_test['transcription'].to_list()):\n",
    "    user = data\n",
    "    messages = [\n",
    "        {\n",
    "        \"role\": \"system\",\n",
    "        \"content\":\"You are an expert in analyzing sentences for the OCEAN personality traits. \\\n",
    "        The OCEAN personality traits assess the following: O (Openness), C (Conscientiousness), E (Extraversion), A (Agreeableness), and N (Neuroticism). \\\n",
    "        Read the given sentence and analyze the extent to which each of the OCEAN personality traits is exhibited in the sentence. \\\n",
    "        Assign a score between 0 and 1 for each trait based on how strongly the trait is represented in the sentence. \\\n",
    "        A score close to 0 means the trait is not represented at all, while a score close to 1 means the trait is very strongly represented. \\\n",
    "        You should provide the output as the scores for the five OCEAN personality traits for the given sentence, similar to the example below. \\\n",
    "        Example: [O: 0.6722, C: 0.8322, E: 0.4860, A: 0.5298, N: 0.9323] \\n\",\n",
    "        },\n",
    "        {\n",
    "                \"role\": \"assistant\",\n",
    "                \"content\": 'Given Sentence: \"' + one_shot_text + '\",\\n Results- [O: 0.7708, C: 0.5416, E: 0.7708, A: 0.8125, N: 0.5313] \\n'\n",
    "            },\n",
    "        {\n",
    "        \"role\": \"user\",\n",
    "        \"content\": 'Given Sentence: \"' + user + '\",\\n Results- [O:'\n",
    "        }\n",
    "    ]\n",
    "    \n",
    "    response = openai_client.chat.completions.create(\n",
    "            model=\"gpt-3.5-turbo\",\n",
    "            messages=messages,\n",
    "            temperature=0.9,\n",
    "            max_tokens=1000,\n",
    "    )\n",
    "    out_text = response.choices[0].message.content.strip()\n",
    "    tmp_df = pd.DataFrame({'Text': [user], 'Inference': [out_text]})\n",
    "    result_df = pd.concat([result_df, tmp_df])"
   ]
  },
  {
   "cell_type": "code",
   "execution_count": null,
   "id": "456eeb1f-6f78-4e20-b4a2-f1894991f40c",
   "metadata": {
    "scrolled": true
   },
   "outputs": [],
   "source": [
    "result_df['Inference'].to_list()"
   ]
  },
  {
   "cell_type": "code",
   "execution_count": null,
   "id": "2f942913-72c3-4ecf-886f-9940088d1d8e",
   "metadata": {
    "scrolled": true
   },
   "outputs": [],
   "source": [
    "score = []\n",
    "p = re.compile('0[.]\\d*')\n",
    "\n",
    "for content in result_df['Inference'].to_list():\n",
    "    tmp = p.findall(content)\n",
    "    score.append(tmp)"
   ]
  },
  {
   "cell_type": "code",
   "execution_count": null,
   "id": "bceda2fb-12f0-4d58-9a39-7ff90b65728a",
   "metadata": {
    "scrolled": true
   },
   "outputs": [],
   "source": [
    "score"
   ]
  },
  {
   "cell_type": "code",
   "execution_count": null,
   "id": "ac8a4abb-0fcb-45be-857f-93f3fe769897",
   "metadata": {
    "scrolled": true
   },
   "outputs": [],
   "source": [
    "FI_test = pd.read_csv(\"/data/visi2/FI/KETI_preprocessed_labeled_dropdup+seperate+2senconcat_ver0.4.csv\",\n",
    "                     index_col=0)\n",
    "FI_test['label'] = FI_test['OCEAN'].map(lambda x : [float(i) for i in x[1:-1].split(',')])"
   ]
  },
  {
   "cell_type": "code",
   "execution_count": null,
   "id": "60440f60-1ee4-4ab4-ba44-ac8699b81d29",
   "metadata": {},
   "outputs": [],
   "source": [
    "MAE_arr = []\n",
    "error_idx = []\n",
    "\n",
    "for i in range(len(FI_test)):\n",
    "    try:\n",
    "        MAE_arr.append(test_compute_metrics(FI_test['label'].iloc[i][:5], score[i][:5]))\n",
    "    except Exception as e:\n",
    "        print(i, e)\n",
    "        error_idx.append(i)"
   ]
  },
  {
   "cell_type": "code",
   "execution_count": null,
   "id": "b31c1126-1930-4624-9ca9-cafebb17ecf4",
   "metadata": {},
   "outputs": [],
   "source": [
    "error_idx"
   ]
  },
  {
   "cell_type": "code",
   "execution_count": null,
   "id": "c5cc4648-9f56-4b6d-91b8-5acd1f8ef98a",
   "metadata": {},
   "outputs": [],
   "source": [
    "re_df = pd.DataFrame(columns=[\"Text\", \"Inference\"])\n",
    "\n",
    "for data in tqdm(FI_test['transcription'][error_idx].to_list()):\n",
    "    user = data\n",
    "    messages = [\n",
    "        {\n",
    "        \"role\": \"system\",\n",
    "        \"content\":\"You are an expert in analyzing sentences for the OCEAN personality traits. \\\n",
    "        The OCEAN personality traits assess the following: O (Openness), C (Conscientiousness), E (Extraversion), A (Agreeableness), and N (Neuroticism). \\\n",
    "        Read the given sentence and analyze the extent to which each of the OCEAN personality traits is exhibited in the sentence. \\\n",
    "        Assign a score between 0 and 1 for each trait based on how strongly the trait is represented in the sentence. \\\n",
    "        A score close to 0 means the trait is not represented at all, while a score close to 1 means the trait is very strongly represented. \\\n",
    "        You should provide the output as the scores for the five OCEAN personality traits for the given sentence, similar to the example below. \\\n",
    "        Example: [O: 0.6722, C: 0.8322, E: 0.4860, A: 0.5298, N: 0.9323]\",\n",
    "        },\n",
    "        {\n",
    "        \"role\": \"user\",\n",
    "        \"content\": 'Given Sentence: \"' + user + '\",\\n Results- [O:'\n",
    "        }\n",
    "    ]\n",
    "    \n",
    "    response = openai_client.chat.completions.create(\n",
    "            model=\"gpt-3.5-turbo\",\n",
    "            messages=messages,\n",
    "            temperature=0.9,\n",
    "            max_tokens=1000,\n",
    "    )\n",
    "    out_text = response.choices[0].message.content.strip()\n",
    "    tmp_df = pd.DataFrame({'Text': [user], 'Inference': [out_text]})\n",
    "    re_df = pd.concat([re_df, tmp_df])"
   ]
  },
  {
   "cell_type": "code",
   "execution_count": null,
   "id": "0bf1a6e4-b043-4a52-8e45-01e12a553578",
   "metadata": {},
   "outputs": [],
   "source": [
    "re_df"
   ]
  },
  {
   "cell_type": "code",
   "execution_count": null,
   "id": "7f10a11d-8990-43cf-87c7-fdd559a66c08",
   "metadata": {},
   "outputs": [],
   "source": [
    "re_score = []\n",
    "p = re.compile('0[.]\\d*')\n",
    "\n",
    "for content in re_df['Inference'].to_list():\n",
    "    tmp = p.findall(content)\n",
    "    re_score.append(tmp)"
   ]
  },
  {
   "cell_type": "code",
   "execution_count": null,
   "id": "eaa5c25d-6eec-48ed-98e2-cda3d1571eef",
   "metadata": {},
   "outputs": [],
   "source": [
    "re_score"
   ]
  },
  {
   "cell_type": "code",
   "execution_count": null,
   "id": "91dd797f-024f-4e98-a633-9b210a4b3467",
   "metadata": {},
   "outputs": [],
   "source": [
    "for i, idx in enumerate(error_idx):\n",
    "    score[idx] = re_score[i]"
   ]
  },
  {
   "cell_type": "code",
   "execution_count": null,
   "id": "567de4cf-0620-47e5-83ed-d34e9f23e126",
   "metadata": {},
   "outputs": [],
   "source": [
    "MAE_arr = []\n",
    "error_idx = []\n",
    "\n",
    "for i in range(len(FI_test)):\n",
    "    try:\n",
    "        MAE_arr.append(test_compute_metrics(FI_test['label'].iloc[i][:5], score[i][:5]))\n",
    "    except Exception as e:\n",
    "        print(i, e)\n",
    "        error_idx.append(i)"
   ]
  },
  {
   "cell_type": "code",
   "execution_count": null,
   "id": "454670fd-54bb-46f6-90f3-519c447eac30",
   "metadata": {},
   "outputs": [],
   "source": [
    "np.array(MAE_arr).mean(axis=0)"
   ]
  },
  {
   "cell_type": "code",
   "execution_count": null,
   "id": "e84a42a2-78b1-4474-b81f-5b4fdc100604",
   "metadata": {},
   "outputs": [],
   "source": [
    "np.mean([0.84711233, 0.81414687, 0.83802557, 0.83684268, 0.8280393])"
   ]
  },
  {
   "cell_type": "markdown",
   "id": "2145ef74-b8ed-4e9c-a60f-6cc3d4657dbf",
   "metadata": {},
   "source": [
    "--------------------"
   ]
  },
  {
   "cell_type": "markdown",
   "id": "361e706d-c6eb-49ea-adf0-7e0cdab59126",
   "metadata": {},
   "source": [
    "### Five-Shot Inference"
   ]
  },
  {
   "cell_type": "code",
   "execution_count": null,
   "id": "3b43a43e-51fd-44af-8753-5b7a51c8601d",
   "metadata": {},
   "outputs": [],
   "source": [
    "key_path = \"/home/visi2/gpt3.5_key.json\"\n",
    "\n",
    "with open(key_path, 'r') as f:\n",
    "    key_json = json.load(f)\n",
    "    openai_client = OpenAI(api_key=key_json['key'])    \n",
    "\n",
    "\n",
    "FI_test = pd.read_csv(\"/data/visi2/FI/KETI_preprocessed_labeled_dropdup+seperate+2senconcat_ver0.4.csv\")\n",
    "result_df = pd.DataFrame(columns=[\"Text\", \"Inference\"])\n",
    "\n",
    "few_shot_text0 = \"좀 쌀쌀한 네 이거 처음 보는 거라 좀 봐야 될 것 같아요\"\n",
    "few_shot_text1 = \"맥주가 최고긴 해 회전율을 무시할 수 없어 주류는 나와야죠.\"\n",
    "few_shot_text2 = \"대추 씨 발라 먹어야 하는 거죠? 그쵸\"\n",
    "few_shot_text3 = \"수제로 만든 거 있잖아요. 저는 플리마켓 구경하는 거 진짜 좋아하거든요.\"\n",
    "few_shot_text4 = \"제주도에서 할 수도 있어요 너무 웃겨\"\n",
    "\n",
    "for data in tqdm(FI_test['transcription'].to_list()):\n",
    "    user = data\n",
    "    messages = [\n",
    "        {\n",
    "        \"role\": \"system\",\n",
    "        \"content\":\"You are an expert in analyzing sentences for the OCEAN personality traits. \\\n",
    "        The OCEAN personality traits assess the following: O (Openness), C (Conscientiousness), E (Extraversion), A (Agreeableness), and N (Neuroticism). \\\n",
    "        Read the given sentence and analyze the extent to which each of the OCEAN personality traits is exhibited in the sentence. \\\n",
    "        Assign a score between 0 and 1 for each trait based on how strongly the trait is represented in the sentence. \\\n",
    "        A score close to 0 means the trait is not represented at all, while a score close to 1 means the trait is very strongly represented. \\\n",
    "        You should provide the output as the scores for the five OCEAN personality traits for the given sentence, similar to the example below. \\\n",
    "        Example: [O: 0.6722, C: 0.8322, E: 0.4860, A: 0.5298, N: 0.9323] \\n\",\n",
    "        },\n",
    "        {\n",
    "                \"role\": \"assistant\",\n",
    "                \"content\": 'Given Sentence: \"' + few_shot_text0 + '\",\\n Results- [O: 0,7708, C: 0.5417, E: 0.7708, A: 0.8125, N: 0.3542] \\n'\n",
    "            },\n",
    "       {\n",
    "                \"role\": \"assistant\",\n",
    "                \"content\": 'Given Sentence: \"' + few_shot_text1 + '\",\\n Results- [O: 0.5833, C: 0.5625, E: 0.4792, A: 0.4583, N: 0.3125] \\n'\n",
    "            },\n",
    "        {\n",
    "                \"role\": \"assistant\",\n",
    "                \"content\": 'Given Sentence: \"' + few_shot_text2 + '\",\\n Results- [O: 0.6875, C: 0.4792, E: 0.4375, A: 0.7708, N: 0.4375] \\n'\n",
    "            },\n",
    "        {\n",
    "                \"role\": \"assistant\",\n",
    "                \"content\": 'Given Sentence: \"' + few_shot_text3 + '\",\\n Results- [O: 0.7292, C: 0.4792, E: 0.5, A: 0.4583, N: 0.7292] \\n'\n",
    "            },\n",
    "        {\n",
    "                \"role\": \"assistant\",\n",
    "                \"content\": 'Given Sentence: \"' + few_shot_text4 + '\",\\n Results- [O: 0.5208, C: 0.6875, E: 0.7917, A: 0.6458, N: 0.25] \\n'\n",
    "            },\n",
    "        {\n",
    "        \"role\": \"user\",\n",
    "        \"content\": 'Given Sentence: \"' + user + '\",\\n Results- [O:'\n",
    "        }\n",
    "    ]\n",
    "\n",
    "    response = openai_client.chat.completions.create(\n",
    "            model=\"gpt-3.5-turbo\",\n",
    "            messages=messages,\n",
    "            temperature=0.9,\n",
    "            max_tokens=1000,\n",
    "    )\n",
    "    out_text = response.choices[0].message.content.strip()\n",
    "    tmp_df = pd.DataFrame({'Text': [user], 'Inference': [out_text]})\n",
    "    result_df = pd.concat([result_df, tmp_df])"
   ]
  },
  {
   "cell_type": "code",
   "execution_count": null,
   "id": "057e17e6-bffe-45db-9e91-e2db32d46512",
   "metadata": {
    "scrolled": true
   },
   "outputs": [],
   "source": [
    "result_df['Inference'].to_list()"
   ]
  },
  {
   "cell_type": "code",
   "execution_count": null,
   "id": "fc0f800f-fa87-4d6a-923e-68e5aceb4003",
   "metadata": {
    "scrolled": true
   },
   "outputs": [],
   "source": [
    "score = []\n",
    "p = re.compile('0[.]\\d*')\n",
    "\n",
    "for content in result_df['Inference'].to_list():\n",
    "    tmp = p.findall(content)\n",
    "    score.append(tmp)"
   ]
  },
  {
   "cell_type": "code",
   "execution_count": null,
   "id": "788fc38b-f89d-4985-8bf3-326f625f1be9",
   "metadata": {
    "scrolled": true
   },
   "outputs": [],
   "source": [
    "score"
   ]
  },
  {
   "cell_type": "code",
   "execution_count": null,
   "id": "a5e3aa15-8034-4e3e-95e6-36ba4a12a921",
   "metadata": {
    "scrolled": true
   },
   "outputs": [],
   "source": [
    "FI_test = pd.read_csv(\"/data/visi2/FI/KETI_preprocessed_labeled_dropdup+seperate+2senconcat_ver0.4.csv\",\n",
    "                     index_col=0)\n",
    "FI_test['label'] = FI_test['OCEAN'].map(lambda x : [float(i) for i in x[1:-1].split(',')])"
   ]
  },
  {
   "cell_type": "code",
   "execution_count": null,
   "id": "f5dbd30b-4452-49c6-8323-5a96881d898c",
   "metadata": {},
   "outputs": [],
   "source": [
    "MAE_arr = []\n",
    "error_idx = []\n",
    "\n",
    "for i in range(len(FI_test)):\n",
    "    try:\n",
    "        MAE_arr.append(test_compute_metrics(FI_test['label'].iloc[i][:5], score[i][:5]))\n",
    "    except Exception as e:\n",
    "        print(i, e)\n",
    "        error_idx.append(i)"
   ]
  },
  {
   "cell_type": "code",
   "execution_count": null,
   "id": "33709829-372e-4ca7-9b9e-1a2b1a3f50fa",
   "metadata": {},
   "outputs": [],
   "source": [
    "error_idx"
   ]
  },
  {
   "cell_type": "code",
   "execution_count": null,
   "id": "78284033-6732-479d-8b8c-cdd695e28d19",
   "metadata": {},
   "outputs": [],
   "source": [
    "re_df = pd.DataFrame(columns=[\"Text\", \"Inference\"])\n",
    "\n",
    "for data in tqdm(FI_test['transcription'][error_idx].to_list()):\n",
    "    user = data\n",
    "    messages = [\n",
    "        {\n",
    "        \"role\": \"system\",\n",
    "        \"content\":\"You are an expert in analyzing sentences for the OCEAN personality traits. \\\n",
    "        The OCEAN personality traits assess the following: O (Openness), C (Conscientiousness), E (Extraversion), A (Agreeableness), and N (Neuroticism). \\\n",
    "        Read the given sentence and analyze the extent to which each of the OCEAN personality traits is exhibited in the sentence. \\\n",
    "        Assign a score between 0 and 1 for each trait based on how strongly the trait is represented in the sentence. \\\n",
    "        A score close to 0 means the trait is not represented at all, while a score close to 1 means the trait is very strongly represented. \\\n",
    "        You should provide the output as the scores for the five OCEAN personality traits for the given sentence, similar to the example below. \\\n",
    "        Example: [O: 0.6722, C: 0.8322, E: 0.4860, A: 0.5298, N: 0.9323]\",\n",
    "        },\n",
    "        {\n",
    "        \"role\": \"user\",\n",
    "        \"content\": 'Given Sentence: \"' + user + '\",\\n Results- [O:'\n",
    "        }\n",
    "    ]\n",
    "    \n",
    "    response = openai_client.chat.completions.create(\n",
    "            model=\"gpt-3.5-turbo\",\n",
    "            messages=messages,\n",
    "            temperature=0.9,\n",
    "            max_tokens=1000,\n",
    "    )\n",
    "    out_text = response.choices[0].message.content.strip()\n",
    "    tmp_df = pd.DataFrame({'Text': [user], 'Inference': [out_text]})\n",
    "    re_df = pd.concat([re_df, tmp_df])"
   ]
  },
  {
   "cell_type": "code",
   "execution_count": null,
   "id": "fb3e58ac-de17-4726-977f-ca29934e6a6a",
   "metadata": {},
   "outputs": [],
   "source": [
    "re_df"
   ]
  },
  {
   "cell_type": "code",
   "execution_count": null,
   "id": "57fdd4b3-3d50-486a-8bc5-a2866a94d744",
   "metadata": {},
   "outputs": [],
   "source": [
    "re_score = []\n",
    "p = re.compile('0[.]\\d*')\n",
    "\n",
    "for content in re_df['Inference'].to_list():\n",
    "    tmp = p.findall(content)\n",
    "    re_score.append(tmp)"
   ]
  },
  {
   "cell_type": "code",
   "execution_count": null,
   "id": "f9a3ebc3-4be0-4f83-8bf0-093809965070",
   "metadata": {},
   "outputs": [],
   "source": [
    "re_score"
   ]
  },
  {
   "cell_type": "code",
   "execution_count": null,
   "id": "fde90add-72a0-403c-a400-1b7a19755e43",
   "metadata": {},
   "outputs": [],
   "source": [
    "for i, idx in enumerate(error_idx):\n",
    "    score[idx] = re_score[i]"
   ]
  },
  {
   "cell_type": "code",
   "execution_count": null,
   "id": "2b7992af-6b33-4bb3-9a80-70f9966392d8",
   "metadata": {},
   "outputs": [],
   "source": [
    "MAE_arr = []\n",
    "error_idx = []\n",
    "\n",
    "for i in range(len(FI_test)):\n",
    "    try:\n",
    "        MAE_arr.append(test_compute_metrics(FI_test['label'].iloc[i][:5], score[i][:5]))\n",
    "    except Exception as e:\n",
    "        print(i, e)\n",
    "        error_idx.append(i)"
   ]
  },
  {
   "cell_type": "code",
   "execution_count": null,
   "id": "67b06e06-e3c9-41cf-afba-2cfb5e1d48c6",
   "metadata": {},
   "outputs": [],
   "source": [
    "np.array(MAE_arr).mean(axis=0)"
   ]
  },
  {
   "cell_type": "code",
   "execution_count": null,
   "id": "029ced15-afec-4d6c-80aa-91eb1c23b592",
   "metadata": {},
   "outputs": [],
   "source": [
    "np.mean([0.84713375, 0.81421225, 0.83817587, 0.83683208, 0.82817295])"
   ]
  },
  {
   "cell_type": "markdown",
   "id": "6b33c3a4-43c1-4a16-a984-cd3bcddbff89",
   "metadata": {},
   "source": [
    "### Ten Shot"
   ]
  },
  {
   "cell_type": "code",
   "execution_count": null,
   "id": "60955866-9814-42e6-a11c-57eedd7f0882",
   "metadata": {},
   "outputs": [],
   "source": [
    "key_path = \"/home/visi2/gpt3.5_key.json\"\n",
    "\n",
    "with open(key_path, 'r') as f:\n",
    "    key_json = json.load(f)\n",
    "    openai_client = OpenAI(api_key=key_json['key'])    \n",
    "\n",
    "\n",
    "FI_test = pd.read_csv(\"/data/visi2/FI/KETI_preprocessed_labeled_dropdup+seperate+2senconcat_ver0.4.csv\")\n",
    "result_df = pd.DataFrame(columns=[\"Text\", \"Inference\"])\n",
    "\n",
    "few_shot_text0 = \"너무 좋다 너무 좋다 롯데월드 기준이면 한강 한강을 여의도로 가는 게 쇼핑 때문이었잖아요. \\n\"\n",
    "few_shot_text1 = \"그냥 우리집 근처에서 잡자 우리집 서울 하고 서울에서 이제 처음에 이제 먹어야 되잖아요. \\\n",
    "바로 먹을까요 아니면 이게 시장이니까 시장 어 이거 막 뭐 팔잖아요 작게 간단하게 거기서 요기거리나 먹으면서 문화로 가도 상관없을 것 같기도 하고 \\n\"\n",
    "few_shot_text2 = \"티켓팅 어떻게 성공하는 걸로 하자 \\n\"\n",
    "few_shot_text3 = \"그러니까 약간 뮤지컬이나 이런 업계 소수 분야로 봤을 때는 탑인데 이제 tv나 이런 약간 저희가 비춰졌을 때 맨날 노출되는 분은 아니다 보니 아무래도 그러시죠 \\n\"\n",
    "few_shot_text4 = \"그게 또 이게 외국에서 또 뭐 흔할 수도 있을거 같아서 뭐가 있지? 서울에 뭐가 있지 또 \\n\"\n",
    "few_shot_text5 = \"일단은 저는 저도 비슷한 것 같아요.  근데 일단은 참여하는 사람들이 20대 초반 초중반이랑 40대 중반부터 50대 중반까지잖아요. \\n\"\n",
    "few_shot_text6 = \"술 안 좋아하시죠? 맥주 좋아하세 \\n\"\n",
    "few_shot_text7 = \"저도 이수근은 4등입니다.  그래서 나영석 아이유 이종석 이수근이어가지고 \\n\"\n",
    "few_shot_text8 = \"심리 치료 상담 이런 걸 하시고 요새 요새 티비에 좀 많이 나오긴 했는데 \\n\"\n",
    "few_shot_text9 = \"전 다 된 것 같습니다. 아까처럼 \\n\"\n",
    "\n",
    "for data in tqdm(FI_test['transcription'].to_list()):\n",
    "    user = data\n",
    "    messages = [\n",
    "        {\n",
    "        \"role\": \"system\",\n",
    "        \"content\":\"You are an expert in analyzing sentences for the OCEAN personality traits. \\\n",
    "        The OCEAN personality traits assess the following: O (Openness), C (Conscientiousness), E (Extraversion), A (Agreeableness), and N (Neuroticism). \\\n",
    "        Read the given sentence and analyze the extent to which each of the OCEAN personality traits is exhibited in the sentence. \\\n",
    "        Assign a score between 0 and 1 for each trait based on how strongly the trait is represented in the sentence. \\\n",
    "        A score close to 0 means the trait is not represented at all, while a score close to 1 means the trait is very strongly represented. \\\n",
    "        You should provide the output as the scores for the five OCEAN personality traits for the given sentence, similar to the example below. \\\n",
    "        Example: [O: 0.6722, C: 0.8322, E: 0.4860, A: 0.5298, N: 0.9323] \\n\",\n",
    "        },\n",
    "        {\n",
    "                \"role\": \"assistant\",\n",
    "                \"content\": 'Given Sentence: \"' + few_shot_text0 + '\",\\n Results- [O: 0.7708, C: 0.7083, E: 0.6667, A: 0.5208, N: 0.5417] \\n'\n",
    "            },\n",
    "       {\n",
    "                \"role\": \"assistant\",\n",
    "                \"content\": 'Given Sentence: \"' + few_shot_text1 + '\",\\n Results- [O: 0.6458, C: 0.5208, E: 0.7917, A: 0.6667, N: 0.2292] \\n'\n",
    "            },\n",
    "        {\n",
    "                \"role\": \"assistant\",\n",
    "                \"content\": 'Given Sentence: \"' + few_shot_text2 + '\",\\n Results- [O: 0.4583, C: 0.6875, E: 0.7083, A: 0.5833, N: 0.3333] \\n'\n",
    "            },\n",
    "        {\n",
    "                \"role\": \"assistant\",\n",
    "                \"content\": 'Given Sentence: \"' + few_shot_text3 + '\",\\n Results- [O: 0.5625, C: 0.5417, E: 0.6667, A: 0.5208, N: 0.4375] \\n'\n",
    "            },\n",
    "        {\n",
    "                \"role\": \"assistant\",\n",
    "                \"content\": 'Given Sentence: \"' + few_shot_text4 + '\",\\n Results- [O: 0.6458, C: 0.5208, E: 0.7917, A: 0.6667, N: 0.2292] \\n'\n",
    "            },\n",
    "        {\n",
    "                \"role\": \"assistant\",\n",
    "                \"content\": 'Given Sentence: \"' + few_shot_text5 + '\",\\n Results- [O: 0.6458, C: 0.6458, E: 0.5208, A: 0.7292, N: 0.6250] \\n'\n",
    "            },\n",
    "       {\n",
    "                \"role\": \"assistant\",\n",
    "                \"content\": 'Given Sentence: \"' + few_shot_text6 + '\",\\n Results- [O: 0.4375, C: 0.7083, E: 0.5625, A: 0.3958, N: 0.4167] \\n'\n",
    "            },\n",
    "        {\n",
    "                \"role\": \"assistant\",\n",
    "                \"content\": 'Given Sentence: \"' + few_shot_text7 + '\",\\n Results- [O: 0.6458, C: 0.6458, E: 0.5208, A: 0.7292, N: 0.6250] \\n'\n",
    "            },\n",
    "        {\n",
    "                \"role\": \"assistant\",\n",
    "                \"content\": 'Given Sentence: \"' + few_shot_text8 + '\",\\n Results- [O: 0.5833, C: 0.6250, E: 0.3542, A: 0.5833, N: 0.6250] \\n'\n",
    "            },\n",
    "        {\n",
    "                \"role\": \"assistant\",\n",
    "                \"content\": 'Given Sentence: \"' + few_shot_text9 + '\",\\n Results- [O: 0.4375, C: 0.7083, E: 0.5625, A: 0.3958, N: 0.4167] \\n'\n",
    "            },\n",
    "        {\n",
    "        \"role\": \"user\",\n",
    "        \"content\": 'Given Sentence: \"' + user + '\",\\n Results- [O:'\n",
    "        }\n",
    "    ]\n",
    "\n",
    "    response = openai_client.chat.completions.create(\n",
    "            model=\"gpt-3.5-turbo\",\n",
    "            messages=messages,\n",
    "            temperature=0.9,\n",
    "            max_tokens=1000,\n",
    "    )\n",
    "    out_text = response.choices[0].message.content.strip()\n",
    "    tmp_df = pd.DataFrame({'Text': [user], 'Inference': [out_text]})\n",
    "    result_df = pd.concat([result_df, tmp_df])"
   ]
  },
  {
   "cell_type": "code",
   "execution_count": null,
   "id": "969c345b-e800-49ed-a6fe-2b792de67d62",
   "metadata": {},
   "outputs": [],
   "source": [
    "result_df['Inference'].to_list()"
   ]
  },
  {
   "cell_type": "code",
   "execution_count": null,
   "id": "55da1d89-c736-41bf-9c96-c0d1be1afb18",
   "metadata": {},
   "outputs": [],
   "source": [
    "score = []\n",
    "p = re.compile('0[.]\\d*')\n",
    "\n",
    "for content in result_df['Inference'].to_list():\n",
    "    tmp = p.findall(content)\n",
    "    score.append(tmp)"
   ]
  },
  {
   "cell_type": "code",
   "execution_count": null,
   "id": "5395e283-2ae7-417f-b8ff-b6ad1694cdf6",
   "metadata": {},
   "outputs": [],
   "source": [
    "score"
   ]
  },
  {
   "cell_type": "code",
   "execution_count": null,
   "id": "00f3a482-fe2f-441b-a261-df991d77048e",
   "metadata": {},
   "outputs": [],
   "source": [
    "FI_test = pd.read_csv(\"/data/visi2/FI/KETI_preprocessed_labeled_dropdup+seperate+2senconcat_ver0.4.csv\",\n",
    "                     index_col=0)\n",
    "FI_test['label'] = FI_test['OCEAN'].map(lambda x : [float(i) for i in x[1:-1].split(',')])"
   ]
  },
  {
   "cell_type": "code",
   "execution_count": null,
   "id": "319bdf0b-9d46-47df-a96a-c7559df14b7c",
   "metadata": {},
   "outputs": [],
   "source": [
    "FI_test['label'] = FI_test['label'].str.split(' ')"
   ]
  },
  {
   "cell_type": "code",
   "execution_count": null,
   "id": "8238ea74-a551-43ec-83d0-ada02f8d28d6",
   "metadata": {},
   "outputs": [],
   "source": [
    "MAE_arr = []\n",
    "error_idx = []"
   ]
  },
  {
   "cell_type": "code",
   "execution_count": null,
   "id": "dfb2837a-8598-421d-a706-48358611d5cf",
   "metadata": {},
   "outputs": [],
   "source": [
    "for i in range(len(FI_test)):\n",
    "    try:\n",
    "        MAE_arr.append(test_compute_metrics(FI_test['label'].iloc[i][:5], score[i][:5]))\n",
    "    except Exception as e:\n",
    "        print(i, e)\n",
    "        error_idx.append(i)"
   ]
  },
  {
   "cell_type": "code",
   "execution_count": null,
   "id": "e508013a-137c-4fa6-ba21-dc16b3ef70c1",
   "metadata": {},
   "outputs": [],
   "source": [
    "error_idx"
   ]
  },
  {
   "cell_type": "code",
   "execution_count": null,
   "id": "85986673-194a-4f0e-b5d9-6ad46e4147a3",
   "metadata": {},
   "outputs": [],
   "source": [
    "re_df = pd.DataFrame(columns=[\"Text\", \"Inference\"])"
   ]
  },
  {
   "cell_type": "code",
   "execution_count": null,
   "id": "b83723a4-cbda-43cf-9878-4026deaff350",
   "metadata": {},
   "outputs": [],
   "source": [
    "for data in tqdm(FI_test['transcription'][error_idx].to_list()):\n",
    "    user = data\n",
    "    messages = [\n",
    "        {\n",
    "        \"role\": \"system\",\n",
    "        \"content\":\"You are an expert in analyzing sentences for the OCEAN personality traits. \\\n",
    "        The OCEAN personality traits assess the following: O (Openness), C (Conscientiousness), E (Extraversion), A (Agreeableness), and N (Neuroticism). \\\n",
    "        Read the given sentence and analyze the extent to which each of the OCEAN personality traits is exhibited in the sentence. \\\n",
    "        Assign a score between 0 and 1 for each trait based on how strongly the trait is represented in the sentence. \\\n",
    "        A score close to 0 means the trait is not represented at all, while a score close to 1 means the trait is very strongly represented. \\\n",
    "        You should provide the output as the scores for the five OCEAN personality traits for the given sentence, similar to the example below. \\\n",
    "        Example: [O: 0.6722, C: 0.8322, E: 0.4860, A: 0.5298, N: 0.9323]\",\n",
    "        },\n",
    "        {\n",
    "        \"role\": \"user\",\n",
    "        \"content\": 'Given Sentence: \"' + user + '\",\\n Results- [O:'\n",
    "        }\n",
    "    ]\n",
    "    \n",
    "    response = openai_client.chat.completions.create(\n",
    "            model=\"gpt-3.5-turbo\",\n",
    "            messages=messages,\n",
    "            temperature=0.9,\n",
    "            max_tokens=1000,\n",
    "    )\n",
    "    out_text = response.choices[0].message.content.strip()\n",
    "    tmp_df = pd.DataFrame({'Text': [user], 'Inference': [out_text]})\n",
    "    re_df = pd.concat([re_df, tmp_df])\n"
   ]
  },
  {
   "cell_type": "code",
   "execution_count": null,
   "id": "c14da82e-78b1-48cb-92f5-1411949e85a4",
   "metadata": {},
   "outputs": [],
   "source": [
    "re_df"
   ]
  },
  {
   "cell_type": "code",
   "execution_count": null,
   "id": "8b9ef787-2bad-4cb9-a624-a9c6eb497b1b",
   "metadata": {},
   "outputs": [],
   "source": [
    "re_score = []\n",
    "p = re.compile('0[.]\\d*')"
   ]
  },
  {
   "cell_type": "code",
   "execution_count": null,
   "id": "4b5da27b-4935-4d86-ac80-e1cf5c6e1da7",
   "metadata": {},
   "outputs": [],
   "source": [
    "for content in re_df['Inference'].to_list():\n",
    "    tmp = p.findall(content)\n",
    "    re_score.append(tmp)"
   ]
  },
  {
   "cell_type": "code",
   "execution_count": null,
   "id": "f14ccc99-73f8-430d-80c5-4e9b4fb8b025",
   "metadata": {},
   "outputs": [],
   "source": [
    "re_score"
   ]
  },
  {
   "cell_type": "code",
   "execution_count": null,
   "id": "12006bbc-e637-4dc6-b0c4-7b923cf3a73b",
   "metadata": {},
   "outputs": [],
   "source": [
    "for i, idx in enumerate(error_idx):\n",
    "    score[idx] = re_score[i]"
   ]
  },
  {
   "cell_type": "code",
   "execution_count": null,
   "id": "3660c8da-b5f5-430a-9d38-a00cfb49ba23",
   "metadata": {},
   "outputs": [],
   "source": [
    "MAE_arr = []\n",
    "error_idx = []"
   ]
  },
  {
   "cell_type": "code",
   "execution_count": null,
   "id": "394ca4ea-d811-4657-acc6-b5cda09666a7",
   "metadata": {},
   "outputs": [],
   "source": [
    "for i in range(len(FI_test)):\n",
    "    try:\n",
    "        MAE_arr.append(test_compute_metrics(FI_test['label'].iloc[i][:5], score[i][:5]))\n",
    "    except Exception as e:\n",
    "        print(i, e)\n",
    "        error_idx.append(i)\n"
   ]
  },
  {
   "cell_type": "code",
   "execution_count": null,
   "id": "117a4691-e5f4-4379-96cd-32e0ea87a206",
   "metadata": {},
   "outputs": [],
   "source": [
    "np.array(MAE_arr).mean(axis=0)"
   ]
  },
  {
   "cell_type": "code",
   "execution_count": null,
   "id": "c14d2de8-19ec-40bc-b29b-188aa59637a0",
   "metadata": {},
   "outputs": [],
   "source": [
    "np.mean([0.84713375, 0.81421225, 0.83817587, 0.83683208, 0.82817295])"
   ]
  },
  {
   "cell_type": "markdown",
   "id": "04749c58-f67a-4a88-8045-ce935b1390d2",
   "metadata": {},
   "source": [
    "### GPT4 Inference - Zero Shot"
   ]
  },
  {
   "cell_type": "code",
   "execution_count": null,
   "id": "acfadec9-a33d-4c38-9d69-984883b72f4b",
   "metadata": {},
   "outputs": [],
   "source": [
    "key_path = \"/home/visi2/gpt3.5_key.json\"\n",
    "\n",
    "with open(key_path, 'r') as f:\n",
    "    key_json = json.load(f)\n",
    "    openai_client = OpenAI(api_key=key_json['key'])    \n",
    "\n",
    "\n",
    "FI_test = pd.read_csv(\"/data/visi2/FI/KETI_preprocessed_labeled_dropdup+seperate+2senconcat_ver0.4.csv\")\n",
    "result_df = pd.DataFrame(columns=[\"Text\", \"Inference\"])\n",
    "\n",
    "for data in tqdm(FI_test['transcription'].to_list()):\n",
    "    user = data\n",
    "    messages = [\n",
    "        {\n",
    "        \"role\": \"system\",\n",
    "        \"content\":\"You are an expert in analyzing sentences for the OCEAN personality traits. \\\n",
    "        The OCEAN personality traits assess the following: O (Openness), C (Conscientiousness), E (Extraversion), A (Agreeableness), and N (Neuroticism). \\\n",
    "        Read the given sentence and analyze the extent to which each of the OCEAN personality traits is exhibited in the sentence. \\\n",
    "        Assign a score between 0 and 1 for each trait based on how strongly the trait is represented in the sentence. \\\n",
    "        A score close to 0 means the trait is not represented at all, while a score close to 1 means the trait is very strongly represented. \\\n",
    "        You should provide the output as the scores for the five OCEAN personality traits for the given sentence, similar to the example below. \\\n",
    "        Example: [O: 0.6722, C: 0.8322, E: 0.4860, A: 0.5298, N: 0.9323] \\n\",\n",
    "        },\n",
    "        {\n",
    "        \"role\": \"user\",\n",
    "        \"content\": 'Given Sentence: \"' + user + '\",\\n Results- [O:'\n",
    "        }\n",
    "    ]\n",
    "    \n",
    "    response = openai_client.chat.completions.create(\n",
    "            model=\"gpt-4-turbo\",\n",
    "            messages=messages,\n",
    "            temperature=0.9,\n",
    "            max_tokens=1000,\n",
    "    )\n",
    "    out_text = response.choices[0].message.content.strip()\n",
    "    tmp_df = pd.DataFrame({'Text': [user], 'Inference': [out_text]})\n",
    "    result_df = pd.concat([result_df, tmp_df])"
   ]
  },
  {
   "cell_type": "code",
   "execution_count": null,
   "id": "6b9a547a-6540-409c-a304-172b7eb7f0e5",
   "metadata": {
    "scrolled": true
   },
   "outputs": [],
   "source": [
    "result_df['Inference'].to_list()"
   ]
  },
  {
   "cell_type": "code",
   "execution_count": null,
   "id": "5d62a66e-f79b-4539-936d-7ccdf05e81c8",
   "metadata": {
    "scrolled": true
   },
   "outputs": [],
   "source": [
    "score = []\n",
    "p = re.compile('0[.]\\d*')\n",
    "\n",
    "for content in result_df['Inference'].to_list():\n",
    "    tmp = p.findall(content)\n",
    "    score.append(tmp)"
   ]
  },
  {
   "cell_type": "code",
   "execution_count": null,
   "id": "09816ceb-d42c-4ba8-aff7-ab607dac9c2b",
   "metadata": {
    "scrolled": true
   },
   "outputs": [],
   "source": [
    "score"
   ]
  },
  {
   "cell_type": "code",
   "execution_count": null,
   "id": "f8230293-a2a6-4dfe-9dfb-efaaff54ffdf",
   "metadata": {
    "scrolled": true
   },
   "outputs": [],
   "source": [
    "FI_test = pd.read_csv(\"/data/visi2/FI/KETI_preprocessed_labeled_dropdup+seperate+2senconcat_ver0.4.csv\",\n",
    "                     index_col=0)\n",
    "FI_test['label'] = FI_test[['openness', 'conscientiousness', \n",
    "                              'extraversion', 'agreeableness', \n",
    "                              'neuroticism']].apply(\n",
    "    lambda row: ' '.join(row.values.astype('str')), axis=1)\n",
    "\n",
    "FI_test['label'] = FI_test['label'].str.split(' ')\n",
    "\n",
    "FI_test"
   ]
  },
  {
   "cell_type": "code",
   "execution_count": null,
   "id": "e4f88ed8-2767-4954-ae18-ddc5031deb0e",
   "metadata": {},
   "outputs": [],
   "source": [
    "MAE_arr = []\n",
    "error_idx = []\n",
    "\n",
    "for i in range(len(FI_test)):\n",
    "    try:\n",
    "        MAE_arr.append(test_compute_metrics(FI_test['label'].iloc[i][:5], score[i][:5]))\n",
    "    except Exception as e:\n",
    "        print(i, e)\n",
    "        error_idx.append(i)"
   ]
  },
  {
   "cell_type": "code",
   "execution_count": null,
   "id": "42f10bbb-d636-4840-a0fb-4cd85e353fea",
   "metadata": {},
   "outputs": [],
   "source": [
    "error_idx"
   ]
  },
  {
   "cell_type": "code",
   "execution_count": null,
   "id": "453dae90-4165-4088-ac4f-6ada30df7165",
   "metadata": {},
   "outputs": [],
   "source": [
    "np.array(MAE_arr).mean(axis=0)"
   ]
  },
  {
   "cell_type": "code",
   "execution_count": null,
   "id": "9280b31a-9a09-414f-b4ef-fd057bf39f76",
   "metadata": {},
   "outputs": [],
   "source": [
    "np.mean([0.7756677 , 0.777749  , 0.80246082, 0.81028451, 0.72891629])"
   ]
  },
  {
   "cell_type": "markdown",
   "id": "8319ee7f-75ae-4b0b-8fca-6a5b8d4e7d7f",
   "metadata": {},
   "source": [
    "### GPT4 Inference - One Shot"
   ]
  },
  {
   "cell_type": "code",
   "execution_count": null,
   "id": "a529d509-74d8-4ea8-bb10-9462fe2a461e",
   "metadata": {},
   "outputs": [],
   "source": [
    "key_path = \"/home/visi2/gpt3.5_key.json\"\n",
    "\n",
    "with open(key_path, 'r') as f:\n",
    "    key_json = json.load(f)\n",
    "    openai_client = OpenAI(api_key=key_json['key'])    \n",
    "\n",
    "\n",
    "FI_test = pd.read_csv(\"/data/visi2/FI/KETI_preprocessed_labeled_dropdup+seperate+2senconcat_ver0.4.csv\")\n",
    "result_df = pd.DataFrame(columns=[\"Text\", \"Inference\"])\n",
    "\n",
    "one_shot_text = \"현재 가장 좋아하는 책 사실 몇 달 전에 서점에서 이 책을 샀는데 읽을 기회가 없었는데 읽기 시작했어요 한번 시작하면 내려놓고 싶지 않은 책 조이스 마이어의 <용감하게 살기>라는 책이에요.\"\n",
    "\n",
    "for data in tqdm(FI_test['transcription'].to_list()):\n",
    "    user = data\n",
    "    messages = [\n",
    "        {\n",
    "        \"role\": \"system\",\n",
    "        \"content\":\"You are an expert in analyzing sentences for the OCEAN personality traits. \\\n",
    "        The OCEAN personality traits assess the following: O (Openness), C (Conscientiousness), E (Extraversion), A (Agreeableness), and N (Neuroticism). \\\n",
    "        Read the given sentence and analyze the extent to which each of the OCEAN personality traits is exhibited in the sentence. \\\n",
    "        Assign a score between 0 and 1 for each trait based on how strongly the trait is represented in the sentence. \\\n",
    "        A score close to 0 means the trait is not represented at all, while a score close to 1 means the trait is very strongly represented. \\\n",
    "        You should provide the output as the scores for the five OCEAN personality traits for the given sentence, similar to the example below. \\\n",
    "        Example: [O: 0.6722, C: 0.8322, E: 0.4860, A: 0.5298, N: 0.9323] \\n\",\n",
    "        },\n",
    "        {\n",
    "                \"role\": \"assistant\",\n",
    "                \"content\": 'Given Sentence: \"' + one_shot_text + '\",\\n Results- [O: 0.6333, C: 0.7184, E: 0.4019, A: 0.4176, N: 0.5313] \\n'\n",
    "            },\n",
    "        {\n",
    "        \"role\": \"user\",\n",
    "        \"content\": 'Given Sentence: \"' + user + '\",\\n Results- [O:'\n",
    "        }\n",
    "    ]\n",
    "    \n",
    "    response = openai_client.chat.completions.create(\n",
    "            model=\"gpt-4-turbo\",\n",
    "            messages=messages,\n",
    "            temperature=0.9,\n",
    "            max_tokens=1000,\n",
    "    )\n",
    "    out_text = response.choices[0].message.content.strip()\n",
    "    tmp_df = pd.DataFrame({'Text': [user], 'Inference': [out_text]})\n",
    "    result_df = pd.concat([result_df, tmp_df])"
   ]
  },
  {
   "cell_type": "code",
   "execution_count": null,
   "id": "cd0c25ab-25d7-4ddd-a20d-fa0b208fe6f9",
   "metadata": {
    "scrolled": true
   },
   "outputs": [],
   "source": [
    "result_df['Inference'].to_list()"
   ]
  },
  {
   "cell_type": "code",
   "execution_count": null,
   "id": "d27dd2be-1472-4ef5-8d17-85684fe3c2d1",
   "metadata": {
    "scrolled": true
   },
   "outputs": [],
   "source": [
    "score = []\n",
    "p = re.compile('0[.]\\d*')\n",
    "\n",
    "for content in result_df['Inference'].to_list():\n",
    "    tmp = p.findall(content)\n",
    "    score.append(tmp)"
   ]
  },
  {
   "cell_type": "code",
   "execution_count": null,
   "id": "c1b08879-0afe-476b-be94-a3e1619f48bb",
   "metadata": {
    "scrolled": true
   },
   "outputs": [],
   "source": [
    "score"
   ]
  },
  {
   "cell_type": "code",
   "execution_count": null,
   "id": "a38afaf6-f571-4835-a00b-f4187e9423b8",
   "metadata": {
    "scrolled": true
   },
   "outputs": [],
   "source": [
    "FI_test = pd.read_csv(\"/data/visi2/FI/KETI_preprocessed_labeled_dropdup+seperate+2senconcat_ver0.4.csv\",\n",
    "                     index_col=0)\n",
    "FI_test['label'] = FI_test[['openness', 'conscientiousness', \n",
    "                              'extraversion', 'agreeableness', \n",
    "                              'neuroticism']].apply(\n",
    "    lambda row: ' '.join(row.values.astype('str')), axis=1)\n",
    "\n",
    "FI_test['label'] = FI_test['label'].str.split(' ')\n",
    "\n",
    "FI_test"
   ]
  },
  {
   "cell_type": "code",
   "execution_count": null,
   "id": "604b8bac-6a44-4607-8ceb-baf2824c9815",
   "metadata": {},
   "outputs": [],
   "source": [
    "MAE_arr = []\n",
    "error_idx = []\n",
    "\n",
    "for i in range(len(FI_test)):\n",
    "    try:\n",
    "        MAE_arr.append(test_compute_metrics(FI_test['label'].iloc[i][:5], score[i][:5]))\n",
    "    except Exception as e:\n",
    "        print(i, e)\n",
    "        error_idx.append(i)"
   ]
  },
  {
   "cell_type": "code",
   "execution_count": null,
   "id": "1646365f-9c37-4e91-8689-3fff83a75652",
   "metadata": {},
   "outputs": [],
   "source": [
    "error_idx"
   ]
  },
  {
   "cell_type": "code",
   "execution_count": null,
   "id": "34b32b2a-1499-444c-8ff4-e7af153b53c5",
   "metadata": {},
   "outputs": [],
   "source": [
    "np.array(MAE_arr).mean(axis=0)"
   ]
  },
  {
   "cell_type": "code",
   "execution_count": null,
   "id": "5ceb54b1-81ec-4142-95e0-986e24b0d7b0",
   "metadata": {},
   "outputs": [],
   "source": [
    "np.mean([0.78392659, 0.80709438, 0.82091478, 0.82104526, 0.76704043])"
   ]
  },
  {
   "cell_type": "markdown",
   "id": "c43288ae-e25d-4b5f-8462-5b368d7e4e3d",
   "metadata": {},
   "source": [
    "### GPT4 Inference - Five Shot"
   ]
  },
  {
   "cell_type": "code",
   "execution_count": null,
   "id": "ea118f99-76ed-4d00-9ff7-2ec2a1f0fd51",
   "metadata": {},
   "outputs": [],
   "source": [
    "key_path = \"/home/visi2/gpt3.5_key.json\"\n",
    "\n",
    "with open(key_path, 'r') as f:\n",
    "    key_json = json.load(f)\n",
    "    openai_client = OpenAI(api_key=key_json['key'])    \n",
    "\n",
    "\n",
    "FI_test = pd.read_csv(\"/data/visi2/FI/KETI_preprocessed_labeled_dropdup+seperate+2senconcat_ver0.4.csv\")\n",
    "result_df = pd.DataFrame(columns=[\"Text\", \"Inference\"])\n",
    "\n",
    "few_shot_text0 = \"현재 가장 좋아하는 책 사실 몇 달 전에 서점에서 이 책을 샀는데 읽을 기회가 없었는데 읽기 시작했어요 한번 시작하면 내려놓고 싶지 않은 책 조이스 마이어의 <용감하게 살기>라는 책이에요.\"\n",
    "few_shot_text1 = \"제가 타겟에서 일했던 곳과 월마트에서 일했던 곳 제가 유튜브를하지 않았다면 아마 여전히 그 일을하고 있지 않았을 것입니다. 저는 항상 손으로 일하고 물건을 만드는 데 관심이 있었지만 건설은 그랬어요\"\n",
    "few_shot_text2 = \"나쁘지만 그들이 만든 최악의 영화는 아닙니다. 그들이 만든 최악의 영화는 괴물이라고 생각합니다. 괴물은 텍사스의 비료 판매원이 만들었다는 점에서 정말 흥미 롭습니다.\"\n",
    "few_shot_text3 = \"매우 소외감을 느낀다는 것은 확실히 제 자존감과 제 자신을 보는 방식에 타격을 주었습니다 제가 이것을 극복한 방법은 제가 매우 긍정적인 환경에 있는지 확인했습니다 저는 합창단처럼 제가 좋아하는 일을 계속하고 예술을 만들었습니다.\"\n",
    "few_shot_text4 = \"감정을 읽는 것에 대해 사람들의 얼굴을 보고 그들의 감정을 어떻게 알 수 있는지에 관한 것입니다 흥미롭습니다 나는 유령 요금소를 읽을 것입니다 나는 그것을 읽지 않았다 나는 많은 사람들이 가지고 있다는 것을 알고 있습니다 미안합니다 나는 그것을 읽지 않았다.\"\n",
    "\n",
    "\n",
    "for data in tqdm(FI_test['transcription'].to_list()):\n",
    "    user = data\n",
    "    messages = [\n",
    "        {\n",
    "        \"role\": \"system\",\n",
    "        \"content\":\"You are an expert in analyzing sentences for the OCEAN personality traits. \\\n",
    "        The OCEAN personality traits assess the following: O (Openness), C (Conscientiousness), E (Extraversion), A (Agreeableness), and N (Neuroticism). \\\n",
    "        Read the given sentence and analyze the extent to which each of the OCEAN personality traits is exhibited in the sentence. \\\n",
    "        Assign a score between 0 and 1 for each trait based on how strongly the trait is represented in the sentence. \\\n",
    "        A score close to 0 means the trait is not represented at all, while a score close to 1 means the trait is very strongly represented. \\\n",
    "        You should provide the output as the scores for the five OCEAN personality traits for the given sentence, similar to the example below. \\\n",
    "        Example: [O: 0.6722, C: 0.8322, E: 0.4860, A: 0.5298, N: 0.9323] \\n\",\n",
    "        },\n",
    "        {\n",
    "                \"role\": \"assistant\",\n",
    "                \"content\": 'Given Sentence: \"' + few_shot_text0 + '\",\\n Results- [O: 0.6333, C: 0.7184, E: 0.4019, A: 0.4176, N: 0.5313] \\n'\n",
    "            },\n",
    "       {\n",
    "                \"role\": \"assistant\",\n",
    "                \"content\": 'Given Sentence: \"' + few_shot_text1 + '\",\\n Results- [O: 0.6889, C: 0.5631, E: 0.5981, A: 0.6374, N: 0.6563] \\n'\n",
    "            },\n",
    "        {\n",
    "                \"role\": \"assistant\",\n",
    "                \"content\": 'Given Sentence: \"' + few_shot_text2 + '\",\\n Results- [O: 0.7778, C: 0.4175, E: 0.5794, A: 0.6813, N: 0.65625] \\n'\n",
    "            },\n",
    "        {\n",
    "                \"role\": \"assistant\",\n",
    "                \"content\": 'Given Sentence: \"' + few_shot_text3 + '\",\\n Results- [O: 0.9000, C: 0.8835, E: 0.7103, A: 0.7912, N: 0.8229] \\n'\n",
    "            },\n",
    "        {\n",
    "                \"role\": \"assistant\",\n",
    "                \"content\": 'Given Sentence: \"' + few_shot_text4 + '\",\\n Results- [O: 0.3889, C: 0.4660, E: 0.2056, A: 0.4176, N: 0.3646] \\n'\n",
    "            },\n",
    "        {\n",
    "        \"role\": \"user\",\n",
    "        \"content\": 'Given Sentence: \"' + user + '\",\\n Results- [O:'\n",
    "        }\n",
    "    ]\n",
    "\n",
    "    response = openai_client.chat.completions.create(\n",
    "            model=\"gpt-4-turbo\",\n",
    "            messages=messages,\n",
    "            temperature=0.9,\n",
    "            max_tokens=1000,\n",
    "    )\n",
    "    out_text = response.choices[0].message.content.strip()\n",
    "    tmp_df = pd.DataFrame({'Text': [user], 'Inference': [out_text]})\n",
    "    result_df = pd.concat([result_df, tmp_df])"
   ]
  },
  {
   "cell_type": "code",
   "execution_count": null,
   "id": "1e40a9d8-6a61-46ea-95aa-bb72292aceea",
   "metadata": {
    "scrolled": true
   },
   "outputs": [],
   "source": [
    "result_df['Inference'].to_list()"
   ]
  },
  {
   "cell_type": "code",
   "execution_count": null,
   "id": "d3b4a29d-fc71-49d5-bacf-13f4d22f1366",
   "metadata": {
    "scrolled": true
   },
   "outputs": [],
   "source": [
    "score = []\n",
    "p = re.compile('0[.]\\d*')\n",
    "\n",
    "for content in result_df['Inference'].to_list():\n",
    "    tmp = p.findall(content)\n",
    "    score.append(tmp)"
   ]
  },
  {
   "cell_type": "code",
   "execution_count": null,
   "id": "9488fa6a-a123-4cfd-9e90-bde1886cead3",
   "metadata": {
    "scrolled": true
   },
   "outputs": [],
   "source": [
    "score"
   ]
  },
  {
   "cell_type": "code",
   "execution_count": null,
   "id": "2235ffab-0841-4d23-a208-ad3d5b88ebee",
   "metadata": {
    "scrolled": true
   },
   "outputs": [],
   "source": [
    "FI_test = pd.read_csv(\"/data/visi2/FI/KETI_preprocessed_labeled_dropdup+seperate+2senconcat_ver0.4.csv\",\n",
    "                     index_col=0)\n",
    "FI_test['label'] = FI_test[['openness', 'conscientiousness', \n",
    "                              'extraversion', 'agreeableness', \n",
    "                              'neuroticism']].apply(\n",
    "    lambda row: ' '.join(row.values.astype('str')), axis=1)\n",
    "\n",
    "FI_test['label'] = FI_test['label'].str.split(' ')\n",
    "\n",
    "FI_test"
   ]
  },
  {
   "cell_type": "code",
   "execution_count": null,
   "id": "49cf4e66-cc62-43b3-895c-a4df803527ec",
   "metadata": {},
   "outputs": [],
   "source": [
    "MAE_arr = []\n",
    "error_idx = []\n",
    "\n",
    "for i in range(len(FI_test)):\n",
    "    try:\n",
    "        MAE_arr.append(test_compute_metrics(FI_test['label'].iloc[i][:5], score[i][:5]))\n",
    "    except Exception as e:\n",
    "        print(i, e)\n",
    "        error_idx.append(i)"
   ]
  },
  {
   "cell_type": "code",
   "execution_count": null,
   "id": "2fa0ca46-6b17-4dd7-a8e1-710a75a5c99b",
   "metadata": {},
   "outputs": [],
   "source": [
    "error_idx"
   ]
  },
  {
   "cell_type": "code",
   "execution_count": null,
   "id": "1ff1adba-ddb6-4b27-a4be-92fc737f9dc3",
   "metadata": {},
   "outputs": [],
   "source": [
    "re_df = pd.DataFrame(columns=[\"Text\", \"Inference\"])\n",
    "\n",
    "for data in tqdm(FI_test['transcription'][error_idx].to_list()):\n",
    "    user = data\n",
    "    messages = [\n",
    "        {\n",
    "        \"role\": \"system\",\n",
    "        \"content\":\"You are an expert in analyzing sentences for the OCEAN personality traits. \\\n",
    "        The OCEAN personality traits assess the following: O (Openness), C (Conscientiousness), E (Extraversion), A (Agreeableness), and N (Neuroticism). \\\n",
    "        Read the given sentence and analyze the extent to which each of the OCEAN personality traits is exhibited in the sentence. \\\n",
    "        Assign a score between 0 and 1 for each trait based on how strongly the trait is represented in the sentence. \\\n",
    "        A score close to 0 means the trait is not represented at all, while a score close to 1 means the trait is very strongly represented. \\\n",
    "        You should provide the output as the scores for the five OCEAN personality traits for the given sentence, similar to the example below. \\\n",
    "        Example: [O: 0.6722, C: 0.8322, E: 0.4860, A: 0.5298, N: 0.9323]\",\n",
    "        },\n",
    "        {\n",
    "        \"role\": \"user\",\n",
    "        \"content\": 'Given Sentence: \"' + user + '\",\\n Results- [O:'\n",
    "        }\n",
    "    ]\n",
    "    \n",
    "    response = openai_client.chat.completions.create(\n",
    "            model=\"gpt-3.5-turbo\",\n",
    "            messages=messages,\n",
    "            temperature=0.9,\n",
    "            max_tokens=1000,\n",
    "    )\n",
    "    out_text = response.choices[0].message.content.strip()\n",
    "    tmp_df = pd.DataFrame({'Text': [user], 'Inference': [out_text]})\n",
    "    re_df = pd.concat([re_df, tmp_df])"
   ]
  },
  {
   "cell_type": "code",
   "execution_count": null,
   "id": "4b384db7-d82e-4d04-b2a4-a9589e6c90f2",
   "metadata": {},
   "outputs": [],
   "source": [
    "re_df"
   ]
  },
  {
   "cell_type": "code",
   "execution_count": null,
   "id": "66d6fbd0-fb14-476b-919c-4cffe4823f2e",
   "metadata": {},
   "outputs": [],
   "source": [
    "re_score = []\n",
    "p = re.compile('0[.]\\d*')\n",
    "\n",
    "for content in re_df['Inference'].to_list():\n",
    "    tmp = p.findall(content)\n",
    "    re_score.append(tmp)"
   ]
  },
  {
   "cell_type": "code",
   "execution_count": null,
   "id": "92f4adc6-8b23-4d4a-80e2-326e3263b9bb",
   "metadata": {},
   "outputs": [],
   "source": [
    "re_score"
   ]
  },
  {
   "cell_type": "code",
   "execution_count": null,
   "id": "d24ee650-92c6-49ae-a83b-358832be75b2",
   "metadata": {},
   "outputs": [],
   "source": [
    "for i, idx in enumerate(error_idx):\n",
    "    score[idx] = re_score[i]"
   ]
  },
  {
   "cell_type": "code",
   "execution_count": null,
   "id": "95f355d5-2394-40f2-89f5-65f2359d10f2",
   "metadata": {},
   "outputs": [],
   "source": [
    "MAE_arr = []\n",
    "error_idx = []\n",
    "\n",
    "for i in range(len(FI_test)):\n",
    "    try:\n",
    "        MAE_arr.append(test_compute_metrics(FI_test['label'].iloc[i][:5], score[i][:5]))\n",
    "    except Exception as e:\n",
    "        print(i, e)\n",
    "        error_idx.append(i)"
   ]
  },
  {
   "cell_type": "code",
   "execution_count": null,
   "id": "22930c52-8d93-4cc3-ac71-56b4615c80fb",
   "metadata": {},
   "outputs": [],
   "source": [
    "np.array(MAE_arr).mean(axis=0)"
   ]
  },
  {
   "cell_type": "code",
   "execution_count": null,
   "id": "e35df90d-958a-43a0-a5d2-1cb3f8914e59",
   "metadata": {},
   "outputs": [],
   "source": [
    "np.mean([0.80206517, 0.82098391, 0.81051178, 0.82531748, 0.75400396])"
   ]
  }
 ],
 "metadata": {
  "kernelspec": {
   "display_name": "Python 3 (ipykernel)",
   "language": "python",
   "name": "python3"
  },
  "language_info": {
   "codemirror_mode": {
    "name": "ipython",
    "version": 3
   },
   "file_extension": ".py",
   "mimetype": "text/x-python",
   "name": "python",
   "nbconvert_exporter": "python",
   "pygments_lexer": "ipython3",
   "version": "3.10.12"
  }
 },
 "nbformat": 4,
 "nbformat_minor": 5
}
